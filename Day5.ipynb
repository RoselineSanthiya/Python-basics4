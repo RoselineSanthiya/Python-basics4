{
  "nbformat": 4,
  "nbformat_minor": 0,
  "metadata": {
    "colab": {
      "provenance": []
    },
    "kernelspec": {
      "name": "python3",
      "display_name": "Python 3"
    },
    "language_info": {
      "name": "python"
    }
  },
  "cells": [
    {
      "cell_type": "code",
      "source": [
        "x=50\n",
        "y=100\n",
        "x==y\n",
        "print (x==y)\n",
        "x is y"
      ],
      "metadata": {
        "colab": {
          "base_uri": "https://localhost:8080/"
        },
        "id": "wj_9LevclDp3",
        "outputId": "d3683568-4e95-44fb-fa33-2281365eb304"
      },
      "execution_count": null,
      "outputs": [
        {
          "output_type": "stream",
          "name": "stdout",
          "text": [
            "False\n"
          ]
        },
        {
          "output_type": "execute_result",
          "data": {
            "text/plain": [
              "False"
            ]
          },
          "metadata": {},
          "execution_count": 3
        }
      ]
    },
    {
      "cell_type": "code",
      "source": [
        "20>10 or \"a\"+1>1"
      ],
      "metadata": {
        "colab": {
          "base_uri": "https://localhost:8080/"
        },
        "id": "RQp8WNr1JAMA",
        "outputId": "299c38f5-316b-4bef-859a-0025aca0918e"
      },
      "execution_count": null,
      "outputs": [
        {
          "output_type": "execute_result",
          "data": {
            "text/plain": [
              "True"
            ]
          },
          "metadata": {},
          "execution_count": 67
        }
      ]
    },
    {
      "cell_type": "code",
      "source": [
        "name=[\"dogs\"]\n",
        "name2=[\"cats\"]\n",
        "\"name\" in \"name2\"\n",
        "len(name)"
      ],
      "metadata": {
        "colab": {
          "base_uri": "https://localhost:8080/"
        },
        "id": "_igaIHbf-kQe",
        "outputId": "caeff6a0-0e2d-44cb-a482-816241f3dbf5"
      },
      "execution_count": null,
      "outputs": [
        {
          "output_type": "execute_result",
          "data": {
            "text/plain": [
              "1"
            ]
          },
          "metadata": {},
          "execution_count": 11
        }
      ]
    },
    {
      "cell_type": "code",
      "source": [],
      "metadata": {
        "id": "fCPReHOJCKwK"
      },
      "execution_count": null,
      "outputs": []
    },
    {
      "cell_type": "code",
      "source": [
        "x=100\n",
        "y=100\n",
        "x==y\n",
        "print (x==y)\n",
        "x is y"
      ],
      "metadata": {
        "colab": {
          "base_uri": "https://localhost:8080/"
        },
        "id": "a8vibtf5lbFu",
        "outputId": "240d0a1d-0951-4b48-8412-87d383e75856"
      },
      "execution_count": null,
      "outputs": [
        {
          "output_type": "stream",
          "name": "stdout",
          "text": [
            "True\n"
          ]
        },
        {
          "output_type": "execute_result",
          "data": {
            "text/plain": [
              "True"
            ]
          },
          "metadata": {},
          "execution_count": 5
        }
      ]
    },
    {
      "cell_type": "code",
      "source": [
        "\n",
        "name1=\"Roseline\"\n",
        "name2=\"Roseline\"\n",
        "name1==name2\n",
        "print (name1==name1)\n",
        "name1 is name2"
      ],
      "metadata": {
        "colab": {
          "base_uri": "https://localhost:8080/"
        },
        "id": "LcGvCvHMll56",
        "outputId": "548f703a-666b-4aab-ba73-7899c8bc819e"
      },
      "execution_count": null,
      "outputs": [
        {
          "output_type": "stream",
          "name": "stdout",
          "text": [
            "True\n"
          ]
        },
        {
          "output_type": "execute_result",
          "data": {
            "text/plain": [
              "True"
            ]
          },
          "metadata": {},
          "execution_count": 11
        }
      ]
    },
    {
      "cell_type": "code",
      "source": [
        "name1=\"tea\"\n",
        "name2=\"coffee\"\n",
        "name1==name2\n",
        "print (name1==name2)\n",
        "name1 is name2"
      ],
      "metadata": {
        "colab": {
          "base_uri": "https://localhost:8080/"
        },
        "id": "ayUy6vN7mTt7",
        "outputId": "0acd5576-9bc0-4ec8-98c5-448c8633d617"
      },
      "execution_count": null,
      "outputs": [
        {
          "output_type": "stream",
          "name": "stdout",
          "text": [
            "False\n"
          ]
        },
        {
          "output_type": "execute_result",
          "data": {
            "text/plain": [
              "False"
            ]
          },
          "metadata": {},
          "execution_count": 13
        }
      ]
    },
    {
      "cell_type": "code",
      "source": [
        "x=[3,6,9]\n",
        "y=[3,6,9]\n",
        "x==y\n",
        "print (x==y)\n",
        "x is y"
      ],
      "metadata": {
        "colab": {
          "base_uri": "https://localhost:8080/"
        },
        "id": "uDzgz4GKmliJ",
        "outputId": "a3a3c268-da42-4262-9be2-74f454e58f79"
      },
      "execution_count": null,
      "outputs": [
        {
          "output_type": "stream",
          "name": "stdout",
          "text": [
            "True\n"
          ]
        },
        {
          "output_type": "execute_result",
          "data": {
            "text/plain": [
              "False"
            ]
          },
          "metadata": {},
          "execution_count": 15
        }
      ]
    },
    {
      "cell_type": "code",
      "source": [
        "x=[\"rose\"]\n",
        "y=[\"rose\"]\n",
        "x==y\n",
        "print (x==y)\n",
        "x is y"
      ],
      "metadata": {
        "colab": {
          "base_uri": "https://localhost:8080/"
        },
        "id": "Ar2Q8MWum2kb",
        "outputId": "4565f2c6-6147-49df-efcc-fd1a0dba757f"
      },
      "execution_count": null,
      "outputs": [
        {
          "output_type": "stream",
          "name": "stdout",
          "text": [
            "True\n"
          ]
        },
        {
          "output_type": "execute_result",
          "data": {
            "text/plain": [
              "False"
            ]
          },
          "metadata": {},
          "execution_count": 17
        }
      ]
    },
    {
      "cell_type": "code",
      "source": [
        "x=[\"dogs\"]\n",
        "y=[\"dogs\"]\n",
        "print (x==y)\n",
        "print (id(x))\n",
        "print (id(y))\n",
        "x is y\n",
        "print (x is y)"
      ],
      "metadata": {
        "colab": {
          "base_uri": "https://localhost:8080/"
        },
        "id": "CvKxbiYVondm",
        "outputId": "bcc11f0f-79c0-41ea-ca97-f6272b911372"
      },
      "execution_count": null,
      "outputs": [
        {
          "output_type": "stream",
          "name": "stdout",
          "text": [
            "True\n",
            "140331654284096\n",
            "140331654742912\n",
            "False\n"
          ]
        }
      ]
    },
    {
      "cell_type": "code",
      "source": [
        "x=[\"Tommy\"]\n",
        "y=[\"Tommy\"]\n",
        "print(x==y)\n",
        "print (\"the value of x==y is\",x==y)\n",
        "print (x is y)\n",
        "print (\"the value of x is y is\",x is y)\n",
        "print (id(x))\n",
        "print (id(y))\n",
        "print (\"the id of value x is\",id(x))\n",
        "print (\"the id of value y is\",id(y))"
      ],
      "metadata": {
        "colab": {
          "base_uri": "https://localhost:8080/"
        },
        "id": "HWeP9-jUp6BL",
        "outputId": "4839622f-6e7a-4881-8e20-3e0730a336d7"
      },
      "execution_count": null,
      "outputs": [
        {
          "output_type": "stream",
          "name": "stdout",
          "text": [
            "True\n",
            "the value of x==y is True\n",
            "False\n",
            "the value of x is y is False\n",
            "140331654668480\n",
            "140331655046336\n",
            "the id of value x is 140331654668480\n",
            "the id of value y is 140331655046336\n"
          ]
        }
      ]
    },
    {
      "cell_type": "code",
      "source": [
        "\n",
        "name=\"Roseline\"\n",
        "if(len(name)==8):\n",
        "   print ('hii')"
      ],
      "metadata": {
        "colab": {
          "base_uri": "https://localhost:8080/"
        },
        "id": "q7nnhqOI0ZwT",
        "outputId": "387ed3ae-4063-4bdb-9ed0-fa7dbfa7c579"
      },
      "execution_count": null,
      "outputs": [
        {
          "output_type": "stream",
          "name": "stdout",
          "text": [
            "hii\n"
          ]
        }
      ]
    },
    {
      "cell_type": "code",
      "source": [],
      "metadata": {
        "id": "HoOjfr13E2mO"
      },
      "execution_count": null,
      "outputs": []
    },
    {
      "cell_type": "code",
      "source": [
        "-7/4"
      ],
      "metadata": {
        "colab": {
          "base_uri": "https://localhost:8080/"
        },
        "id": "kgQUqDbz0rYm",
        "outputId": "687a512b-27d7-4854-9b4e-97e1113dbcb0"
      },
      "execution_count": null,
      "outputs": [
        {
          "output_type": "execute_result",
          "data": {
            "text/plain": [
              "-1.75"
            ]
          },
          "metadata": {},
          "execution_count": 36
        }
      ]
    },
    {
      "cell_type": "code",
      "source": [
        "-7//4"
      ],
      "metadata": {
        "colab": {
          "base_uri": "https://localhost:8080/"
        },
        "id": "ca3_ootS0uUw",
        "outputId": "80c86698-7b7b-4563-9c0c-dd4411c3baa6"
      },
      "execution_count": null,
      "outputs": [
        {
          "output_type": "execute_result",
          "data": {
            "text/plain": [
              "-2"
            ]
          },
          "metadata": {},
          "execution_count": 37
        }
      ]
    },
    {
      "cell_type": "code",
      "source": [
        "-7%4"
      ],
      "metadata": {
        "colab": {
          "base_uri": "https://localhost:8080/"
        },
        "id": "tlWRaZ250zcw",
        "outputId": "bfe3c238-a998-4358-900d-d91b61bdfbc4"
      },
      "execution_count": null,
      "outputs": [
        {
          "output_type": "execute_result",
          "data": {
            "text/plain": [
              "1"
            ]
          },
          "metadata": {},
          "execution_count": 38
        }
      ]
    },
    {
      "cell_type": "code",
      "source": [
        "x=5\n",
        "x+=5\n",
        "print (x)\n",
        "y=10\n",
        "x+=y\n",
        "print (y)\n",
        "y+=y"
      ],
      "metadata": {
        "colab": {
          "base_uri": "https://localhost:8080/"
        },
        "id": "6zqW3PxF03Kw",
        "outputId": "6d64c702-4047-417b-fca7-b75202d7d261"
      },
      "execution_count": null,
      "outputs": [
        {
          "output_type": "stream",
          "name": "stdout",
          "text": [
            "10\n",
            "10\n"
          ]
        }
      ]
    },
    {
      "cell_type": "code",
      "source": [
        "x=10\n",
        "y=10\n",
        "x+=y\n",
        "print (x)\n",
        "y+=5\n",
        "print (y)"
      ],
      "metadata": {
        "colab": {
          "base_uri": "https://localhost:8080/"
        },
        "id": "vcM9foNy1heD",
        "outputId": "849fcad6-2e5d-47b9-cd6f-f3451fcabd7d"
      },
      "execution_count": null,
      "outputs": [
        {
          "output_type": "stream",
          "name": "stdout",
          "text": [
            "20\n",
            "15\n"
          ]
        }
      ]
    },
    {
      "cell_type": "code",
      "source": [
        "a=150\n",
        "b=145\n",
        "c=150\n",
        "print (a is c)\n",
        "print (b is c)\n",
        "print (a is not c)\n",
        "print (a is not c)\n",
        "b+=5\n",
        "print (b is c)\n",
        "print (id(a),id(b),id(c))"
      ],
      "metadata": {
        "colab": {
          "base_uri": "https://localhost:8080/"
        },
        "id": "xIJHCvyy14rC",
        "outputId": "5a332879-e5fb-4927-b4d8-71d2f9099b88"
      },
      "execution_count": null,
      "outputs": [
        {
          "output_type": "stream",
          "name": "stdout",
          "text": [
            "True\n",
            "False\n",
            "False\n",
            "False\n",
            "True\n",
            "9797856 9797856 9797856\n"
          ]
        }
      ]
    },
    {
      "cell_type": "code",
      "source": [
        "a,b,c=1,2,3\n",
        "if(a==c):\n",
        "  print ('true')\n",
        "elif(a|c==1):\n",
        "   print ('truee')\n",
        "else:\n",
        "   print ('invalid')"
      ],
      "metadata": {
        "colab": {
          "base_uri": "https://localhost:8080/"
        },
        "id": "4oVX8HQqE5IP",
        "outputId": "bc73f405-5138-4747-a045-abd76fdc7a26"
      },
      "execution_count": null,
      "outputs": [
        {
          "output_type": "stream",
          "name": "stdout",
          "text": [
            "invalid\n"
          ]
        }
      ]
    },
    {
      "cell_type": "code",
      "source": [
        "a,c=1,3\n",
        "print (a<c|c>a)"
      ],
      "metadata": {
        "colab": {
          "base_uri": "https://localhost:8080/"
        },
        "id": "b6WfVE2_Gbti",
        "outputId": "7e846740-a2d0-4402-c4bd-d8e34e85aa27"
      },
      "execution_count": null,
      "outputs": [
        {
          "output_type": "stream",
          "name": "stdout",
          "text": [
            "True\n"
          ]
        }
      ]
    },
    {
      "cell_type": "code",
      "source": [
        "S1=\"abc\"\n",
        "s2=input (\"enter the value\")\n",
        "print (s2)\n",
        "S1==s2\n",
        "S1 is s2\n",
        "print (S1==s2)\n",
        "print (S1 is s2)\n",
        "s3=\"abc\"\n",
        "print (S1 is s3)\n",
        "print (id(S1),id(s2),id(s3))"
      ],
      "metadata": {
        "colab": {
          "base_uri": "https://localhost:8080/"
        },
        "id": "kyAfiC3Y8z0A",
        "outputId": "ab39dbcc-b3d0-4762-f4ec-90d6e409a3b0"
      },
      "execution_count": null,
      "outputs": [
        {
          "output_type": "stream",
          "name": "stdout",
          "text": [
            "enter the valueabc\n",
            "abc\n",
            "True\n",
            "False\n",
            "True\n",
            "140332205194608 140331654215792 140332205194608\n"
          ]
        }
      ]
    },
    {
      "cell_type": "code",
      "source": [
        "i=2+3.5j\n",
        "j=2+3.5j\n",
        "print (i is j)\n",
        "print (id(i),id(j))"
      ],
      "metadata": {
        "colab": {
          "base_uri": "https://localhost:8080/"
        },
        "id": "L9oFlOwb-KSk",
        "outputId": "9161c376-cc80-4426-d61d-5094ee93e6c1"
      },
      "execution_count": null,
      "outputs": [
        {
          "output_type": "stream",
          "name": "stdout",
          "text": [
            "False\n",
            "140331615168016 140331615167600\n"
          ]
        }
      ]
    }
  ]
}